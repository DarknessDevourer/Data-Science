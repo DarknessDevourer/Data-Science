{
 "cells": [
  {
   "cell_type": "markdown",
   "metadata": {},
   "source": [
    "# Data analysis and preparation \n",
    "\n",
    "### Lab №2"
   ]
  },
  {
   "cell_type": "markdown",
   "metadata": {},
   "source": [
    "#### Setup\n",
    "\n",
    "##### Run the next cell to import and configure the Python libraries."
   ]
  },
  {
   "cell_type": "code",
   "execution_count": 1,
   "metadata": {},
   "outputs": [
    {
     "name": "stdout",
     "output_type": "stream",
     "text": [
      "Setup Completed\n"
     ]
    }
   ],
   "source": [
    "import os\n",
    "import pandas as pd\n",
    "import urllib.request\n",
    "from datetime import datetime\n",
    "import numpy as np\n",
    "import shutil\n",
    "print(\"Setup Completed\")"
   ]
  },
  {
   "cell_type": "markdown",
   "metadata": {},
   "source": [
    "##### Для кожної із адміністративних одиниць України завантажити тестові структуровані файли, що містять значення VHI-індексу. Ця процедура має бути автоматизована, параметром процедури має бути індекс(номер) області. При зберіганні файлу до його імені потрібно додати дату та час завантаження. Передбачити повторні запуски скрипту, довантаження нових даних та колізію даних;"
   ]
  },
  {
   "cell_type": "code",
   "execution_count": 2,
   "metadata": {},
   "outputs": [
    {
     "name": "stdout",
     "output_type": "stream",
     "text": [
      "! VHI data for region id 1 saved as vhi_region_1_2025-02-18_17-05-33.csv!\n",
      "! VHI data for region id 2 saved as vhi_region_2_2025-02-18_17-05-34.csv!\n",
      "! VHI data for region id 3 saved as vhi_region_3_2025-02-18_17-05-35.csv!\n",
      "! VHI data for region id 4 saved as vhi_region_4_2025-02-18_17-05-36.csv!\n",
      "! VHI data for region id 5 saved as vhi_region_5_2025-02-18_17-05-36.csv!\n",
      "! VHI data for region id 6 saved as vhi_region_6_2025-02-18_17-05-37.csv!\n",
      "! VHI data for region id 7 saved as vhi_region_7_2025-02-18_17-05-38.csv!\n",
      "! VHI data for region id 8 saved as vhi_region_8_2025-02-18_17-05-39.csv!\n",
      "! VHI data for region id 9 saved as vhi_region_9_2025-02-18_17-05-40.csv!\n",
      "! VHI data for region id 10 saved as vhi_region_10_2025-02-18_17-05-41.csv!\n",
      "! VHI data for region id 11 saved as vhi_region_11_2025-02-18_17-05-41.csv!\n",
      "! VHI data for region id 12 saved as vhi_region_12_2025-02-18_17-05-42.csv!\n",
      "! VHI data for region id 13 saved as vhi_region_13_2025-02-18_17-05-43.csv!\n",
      "! VHI data for region id 14 saved as vhi_region_14_2025-02-18_17-05-44.csv!\n",
      "! VHI data for region id 15 saved as vhi_region_15_2025-02-18_17-05-45.csv!\n",
      "! VHI data for region id 16 saved as vhi_region_16_2025-02-18_17-05-46.csv!\n",
      "! VHI data for region id 17 saved as vhi_region_17_2025-02-18_17-05-46.csv!\n",
      "! VHI data for region id 18 saved as vhi_region_18_2025-02-18_17-05-47.csv!\n",
      "! VHI data for region id 19 saved as vhi_region_19_2025-02-18_17-05-48.csv!\n",
      "! VHI data for region id 20 saved as vhi_region_20_2025-02-18_17-05-49.csv!\n",
      "! VHI data for region id 21 saved as vhi_region_21_2025-02-18_17-05-50.csv!\n",
      "! VHI data for region id 22 saved as vhi_region_22_2025-02-18_17-05-51.csv!\n",
      "! VHI data for region id 23 saved as vhi_region_23_2025-02-18_17-05-51.csv!\n",
      "! VHI data for region id 24 saved as vhi_region_24_2025-02-18_17-05-52.csv!\n",
      "! VHI data for region id 25 saved as vhi_region_25_2025-02-18_17-05-53.csv!\n",
      "! VHI data for region id 26 saved as vhi_region_26_2025-02-18_17-05-54.csv!\n",
      "! VHI data for region id 27 saved as vhi_region_27_2025-02-18_17-05-55.csv!\n"
     ]
    }
   ],
   "source": [
    "def download_vhi_data():\n",
    "    data_directory = 'VHI'\n",
    "    \n",
    "    shutil.rmtree(data_directory, ignore_errors=True)\n",
    "    os.makedirs(data_directory, exist_ok=True)\n",
    "    \n",
    "    for region_id in range(1, 28):\n",
    "        url = f'https://www.star.nesdis.noaa.gov/smcd/emb/vci/VH/get_TS_admin.php?country=UKR&provinceID={region_id}&year1=1982&year2=2023&type=Mean'\n",
    "        \n",
    "        try:\n",
    "            response = urllib.request.urlopen(url)\n",
    "            data = response.read()\n",
    "            \n",
    "            current_time = datetime.now()\n",
    "            timestamp = current_time.strftime(\"%Y-%m-%d_%H-%M-%S\")\n",
    "            \n",
    "            file_name = f'vhi_region_{region_id}_{timestamp}.csv'\n",
    "            file_path = os.path.join(data_directory, file_name)\n",
    "            \n",
    "            with open(file_path, 'wb') as file:\n",
    "                file.write(data)\n",
    "            \n",
    "            print(f\"! VHI data for region id {region_id} saved as {file_name}!\")\n",
    "        except Exception as e:\n",
    "            print(f\"!!! Error loading data for region id {region_id}: {str(e)}!!!\")\n",
    "        \n",
    "download_vhi_data()"
   ]
  },
  {
   "cell_type": "markdown",
   "metadata": {},
   "source": [
    "##### 2. Зчитати завантажені текстові файли у фрейм. Імена стовбців фрейму мають бути змістовними та легкими для сприйняття (не повинно бути спеціалізованих символів, пробілів тощо). Ця задача має бути реалізована у вигляді окремої процедури, яка на вхід приймає шлях до директорії, в якій зберігаються файли;"
   ]
  },
  {
   "cell_type": "code",
   "execution_count": 3,
   "metadata": {},
   "outputs": [
    {
     "name": "stdout",
     "output_type": "stream",
     "text": [
      "   Year  Week    SMN     SMT    VCI    TCI    VHI  Area_ID\n",
      "0  1982   2.0  0.063  261.53  55.89  38.20  47.04        1\n",
      "1  1982   3.0  0.063  263.45  57.30  32.69  44.99        1\n",
      "2  1982   4.0  0.061  265.10  53.96  28.62  41.29        1\n",
      "3  1982   5.0  0.058  266.42  46.87  28.57  37.72        1\n",
      "4  1982   6.0  0.056  267.47  39.55  30.27  34.91        1\n",
      "       Year  Week    SMN     SMT    VCI    TCI    VHI  Area_ID\n",
      "57586  2023  48.0  0.101  277.36  37.50  15.86  26.68       27\n",
      "57587  2023  49.0  0.097  275.73  38.12  16.77  27.45       27\n",
      "57588  2023  50.0  0.097  275.42  40.98  13.16  27.07       27\n",
      "57589  2023  51.0  0.097  274.98  43.98  11.14  27.56       27\n",
      "57590  2023  52.0  0.098  274.62  47.00  10.39  28.70       27\n"
     ]
    }
   ],
   "source": [
    "def load_vhi_data(directory_path):\n",
    "    if not os.path.exists(directory_path):\n",
    "        print(f\"Error: Directory '{directory_path}' not found!\")\n",
    "        return pd.DataFrame()\n",
    "    \n",
    "    headers = ['Year', 'Week', 'SMN', 'SMT', 'VCI', 'TCI', 'VHI', 'empty']\n",
    "    files = os.listdir(directory_path)\n",
    "    result_df = pd.DataFrame()\n",
    "\n",
    "    for i in range(len(files)):\n",
    "        filepath = os.path.join(directory_path, files[i])\n",
    "        df = pd.read_csv(filepath, header=1, names=headers, skiprows=1)  \n",
    "\n",
    "        df = df.dropna(subset=['VHI'])\n",
    "        df = df[df['VHI'] != -1]\n",
    "        df = df.replace({'<tt>': '', '<pre>': ''})\n",
    "        df['Area_ID'] = i + 1\n",
    "\n",
    "        if 'empty' in df.columns:\n",
    "            df.drop('empty', axis=1, inplace=True)\n",
    "            \n",
    "        if not df.empty:\n",
    "            result_df = pd.concat([result_df, df], ignore_index=True)\n",
    "\n",
    "    return result_df\n",
    "            \n",
    "directory = \"VHI\"\n",
    "df = load_vhi_data(directory)\n",
    "print(df.head())\n",
    "print(df.tail())\n",
    "\n",
    "\n",
    "\n",
    "    "
   ]
  },
  {
   "cell_type": "markdown",
   "metadata": {},
   "source": [
    "##### 3. Реалізувати процедуру, яка змінить індекси областей, які використані на порталі NOAA."
   ]
  },
  {
   "cell_type": "code",
   "execution_count": 4,
   "metadata": {},
   "outputs": [
    {
     "name": "stdout",
     "output_type": "stream",
     "text": [
      "   Year  Week    SMN     SMT    VCI    TCI    VHI    Area_ID\n",
      "0  1982   2.0  0.063  261.53  55.89  38.20  47.04  Vinnytsia\n",
      "1  1982   3.0  0.063  263.45  57.30  32.69  44.99  Vinnytsia\n",
      "2  1982   4.0  0.061  265.10  53.96  28.62  41.29  Vinnytsia\n",
      "3  1982   5.0  0.058  266.42  46.87  28.57  37.72  Vinnytsia\n",
      "4  1982   6.0  0.056  267.47  39.55  30.27  34.91  Vinnytsia\n",
      "       Year  Week    SMN     SMT    VCI    TCI    VHI Area_ID\n",
      "57586  2023  48.0  0.101  277.36  37.50  15.86  26.68  Crimea\n",
      "57587  2023  49.0  0.097  275.73  38.12  16.77  27.45  Crimea\n",
      "57588  2023  50.0  0.097  275.42  40.98  13.16  27.07  Crimea\n",
      "57589  2023  51.0  0.097  274.98  43.98  11.14  27.56  Crimea\n",
      "57590  2023  52.0  0.098  274.62  47.00  10.39  28.70  Crimea\n"
     ]
    }
   ],
   "source": [
    "area_mapping = {\n",
    "        1: 'Vinnytsia', 2: 'Volyn', 3: 'Dnipropetrovsk', 4: 'Donetsk',\n",
    "        5: 'Zhytomyr', 6: 'Zakarpattia', 7: 'Zaporizhzhia', 8: 'Ivano-Frankivsk',\n",
    "        9: 'Kyivska', 10: 'Kirovohrad', 11: 'Luhansk', 12: 'Lviv',\n",
    "        13: 'Mykolaiv', 14: 'Odesa', 15: 'Poltava', 16: 'Rivne',\n",
    "        17: 'Sumy', 18: 'Ternopil', 19: 'Kharkiv', 20: 'Kherson',\n",
    "        21: 'Khmelnytskyi', 22: 'Cherkasy', 23: 'Chernivtsi', 24: 'Chernihiv',\n",
    "        25: 'Sevastopol', 26: 'Kyiv', 27: 'Crimea'\n",
    "    }\n",
    "df['Area_ID'] = df['Area_ID'].replace(area_mapping)\n",
    "\n",
    "print(df.head())\n",
    "print(df.tail())\n"
   ]
  },
  {
   "cell_type": "markdown",
   "metadata": {},
   "source": [
    "##### 4. Реалізувати процедури для формування вибірок наступного виду (включаючи елементи аналізу):\n",
    "##### 4.1. Ряд VHI для області за вказаний рік"
   ]
  },
  {
   "cell_type": "code",
   "execution_count": null,
   "metadata": {},
   "outputs": [
    {
     "name": "stdout",
     "output_type": "stream",
     "text": [
      "! VHI series for Kyiv in 1999 year:\n",
      "       Year  Week    VHI Area_ID\n",
      "54178  1999   1.0  51.08    Kyiv\n",
      "54179  1999   2.0  51.41    Kyiv\n",
      "54180  1999   3.0  52.96    Kyiv\n",
      "54181  1999   4.0  58.13    Kyiv\n",
      "54182  1999   5.0  61.51    Kyiv\n",
      "54183  1999   6.0  58.69    Kyiv\n",
      "54184  1999   7.0  53.71    Kyiv\n",
      "54185  1999   8.0  48.93    Kyiv\n",
      "54186  1999   9.0  45.63    Kyiv\n",
      "54187  1999  10.0  44.32    Kyiv\n",
      "54188  1999  11.0  43.18    Kyiv\n",
      "54189  1999  12.0  44.01    Kyiv\n",
      "54190  1999  13.0  45.74    Kyiv\n",
      "54191  1999  14.0  46.39    Kyiv\n",
      "54192  1999  15.0  47.48    Kyiv\n",
      "54193  1999  16.0  49.82    Kyiv\n",
      "54194  1999  17.0  54.19    Kyiv\n",
      "54195  1999  18.0  59.11    Kyiv\n",
      "54196  1999  19.0  61.17    Kyiv\n",
      "54197  1999  20.0  62.69    Kyiv\n",
      "54198  1999  21.0  61.76    Kyiv\n",
      "54199  1999  22.0  57.49    Kyiv\n",
      "54200  1999  23.0  53.51    Kyiv\n",
      "54201  1999  24.0  50.73    Kyiv\n",
      "54202  1999  25.0  47.37    Kyiv\n",
      "54203  1999  26.0  43.35    Kyiv\n",
      "54204  1999  27.0  40.37    Kyiv\n",
      "54205  1999  28.0  38.58    Kyiv\n",
      "54206  1999  29.0  37.62    Kyiv\n",
      "54207  1999  30.0  37.83    Kyiv\n",
      "54208  1999  31.0  40.43    Kyiv\n",
      "54209  1999  32.0  42.76    Kyiv\n",
      "54210  1999  33.0  42.98    Kyiv\n",
      "54211  1999  34.0  43.34    Kyiv\n",
      "54212  1999  35.0  43.96    Kyiv\n",
      "54213  1999  36.0  41.23    Kyiv\n",
      "54214  1999  37.0  35.25    Kyiv\n",
      "54215  1999  38.0  29.01    Kyiv\n",
      "54216  1999  39.0  27.63    Kyiv\n",
      "54217  1999  40.0  31.42    Kyiv\n",
      "54218  1999  41.0  37.82    Kyiv\n",
      "54219  1999  42.0  42.42    Kyiv\n",
      "54220  1999  43.0  43.74    Kyiv\n",
      "54221  1999  44.0  42.28    Kyiv\n",
      "54222  1999  45.0  43.08    Kyiv\n",
      "54223  1999  46.0  46.41    Kyiv\n",
      "54224  1999  47.0  47.82    Kyiv\n",
      "54225  1999  48.0  46.97    Kyiv\n",
      "54226  1999  49.0  44.56    Kyiv\n",
      "54227  1999  50.0  36.02    Kyiv\n",
      "54228  1999  51.0  30.54    Kyiv\n",
      "54229  1999  52.0  28.59    Kyiv\n"
     ]
    }
   ],
   "source": [
    "def get_vhi_series(df, region, year):\n",
    "    filtered_df = df[(df['Area_ID'] == region) & (df['Year'] == year)]\n",
    "    if filtered_df.empty:\n",
    "        print(f\"No data available for {region} in {year}\")\n",
    "        return None\n",
    "    return filtered_df[['Year', 'Week', 'VHI', 'Area_ID']]\n",
    "\n",
    "wanted_reg = input(\"Region: \")\n",
    "wanted_year = input(\"Year: \")\n",
    "wanted_year = str(wanted_year)\n",
    "\n",
    "vhi_list = get_vhi_series(df, wanted_reg, wanted_year)\n",
    "\n",
    "print(f\"! VHI series for {wanted_reg} in {wanted_year} year:\")\n",
    "print(vhi_list)\n"
   ]
  },
  {
   "cell_type": "markdown",
   "metadata": {},
   "source": [
    "##### 4.2 Пошук екстремумів (min та max) для вказаних областей та років,середнього, медіани;"
   ]
  },
  {
   "cell_type": "code",
   "execution_count": null,
   "metadata": {},
   "outputs": [
    {
     "name": "stdout",
     "output_type": "stream",
     "text": [
      "\n",
      "VHI Statistics for Kyiv in 1999:\n",
      "----------------------------------------\n",
      " Min VHI: 27.63\n",
      " Max VHI: 62.69\n",
      " Mean VHI: 45.71\n",
      " Median VHI: 44.44\n",
      "----------------------------------------\n"
     ]
    }
   ],
   "source": [
    "def analyze_vhi(df, region, year):\n",
    "    df['Year'] = df['Year'].astype(str)\n",
    "    filtered_df = df[(df['Area_ID'] == region) & (df['Year'] == year)]\n",
    "    \n",
    "    if filtered_df.empty:\n",
    "        print(f\"No data available for {region} in {year}\")\n",
    "        return None\n",
    "    \n",
    "    vhi_min = filtered_df['VHI'].min()\n",
    "    vhi_max = filtered_df['VHI'].max()\n",
    "    vhi_mean = filtered_df['VHI'].mean()\n",
    "    vhi_median = filtered_df['VHI'].median()\n",
    "\n",
    "    return {\n",
    "        'Min VHI': vhi_min,\n",
    "        'Max VHI': vhi_max,\n",
    "        'Mean VHI': vhi_mean,\n",
    "        'Median VHI': vhi_median\n",
    "    }\n",
    "\n",
    "def display_vhi_stats(stats, region, year):\n",
    "    if stats is None:\n",
    "        print(f\"No data available for {region} in {year}\")\n",
    "        return\n",
    "    \n",
    "    print(f\"\\nVHI Statistics for {region} in {year}:\")\n",
    "    print(\"-\" * 40)\n",
    "    print(f\" Min VHI: {stats['Min VHI']:.2f}\")\n",
    "    print(f\" Max VHI: {stats['Max VHI']:.2f}\")\n",
    "    print(f\" Mean VHI: {stats['Mean VHI']:.2f}\")\n",
    "    print(f\" Median VHI: {stats['Median VHI']:.2f}\")\n",
    "    print(\"-\" * 40)\n",
    "\n",
    "\n",
    "wanted_reg = input(\"Region: \")\n",
    "wanted_year = input(\"Year: \")\n",
    "wanted_year = str(wanted_year)\n",
    "vhi_stats = analyze_vhi(df, wanted_reg, wanted_year)\n",
    "\n",
    "\n",
    "display_vhi_stats(vhi_stats, wanted_reg, wanted_year)\n"
   ]
  },
  {
   "cell_type": "markdown",
   "metadata": {},
   "source": [
    "##### 4.3 Ряд VHI за вказаний діапазон років для вказаних областей"
   ]
  },
  {
   "cell_type": "code",
   "execution_count": 11,
   "metadata": {},
   "outputs": [
    {
     "name": "stdout",
     "output_type": "stream",
     "text": [
      "       Year  Week Area_ID    VHI\n",
      "28582  1999   1.0   Odesa  46.35\n",
      "28583  1999   2.0   Odesa  51.87\n",
      "28584  1999   3.0   Odesa  59.72\n",
      "28585  1999   4.0   Odesa  63.51\n",
      "28586  1999   5.0   Odesa  63.63\n",
      "...     ...   ...     ...    ...\n",
      "29389  2014  48.0   Odesa  41.98\n",
      "29390  2014  49.0   Odesa  46.52\n",
      "29391  2014  50.0   Odesa  47.25\n",
      "29392  2014  51.0   Odesa  46.89\n",
      "29393  2014  52.0   Odesa  46.79\n",
      "\n",
      "[812 rows x 4 columns]\n"
     ]
    }
   ],
   "source": [
    "def get_vhi_range(df, regions, start_year, end_year):\n",
    "    df['Year'] = df['Year'].astype(int)\n",
    "    filtered_df = df[(df['Area_ID'].isin(regions)) & (df['Year'].between(start_year, end_year))]\n",
    "    return filtered_df[['Year', 'Week', 'Area_ID', 'VHI']]\n",
    "\n",
    "wanted_reg = input(\"Region (comma-separated if multiple): \").split(\",\") \n",
    "wanted_reg = [region.strip() for region in wanted_reg]  \n",
    "\n",
    "wanted_year_start = int(input(\"Start Year: \")) \n",
    "wanted_end_year = int(input(\"End Year: \"))  \n",
    "vhi_range = get_vhi_range(df, wanted_reg, wanted_year_start, wanted_end_year)\n",
    "print(vhi_range)"
   ]
  },
  {
   "cell_type": "markdown",
   "metadata": {},
   "source": [
    "##### 4.4 Для всього набору даних виявити роки, протягом яких екстремальні посухи торкнулися більше вказаного відсотка областей по Україні (20% областей - 5 областей з 25). Повернути роки, назви областей з екстремальними посухами та значення VHI;"
   ]
  },
  {
   "cell_type": "code",
   "execution_count": 14,
   "metadata": {},
   "outputs": [
    {
     "name": "stdout",
     "output_type": "stream",
     "text": [
      "Year 2000: Extreme drought in regions:\n",
      "              Area_ID    VHI\n",
      "3081            Volyn  12.51\n",
      "3082            Volyn  10.60\n",
      "3083            Volyn  11.20\n",
      "3084            Volyn  12.32\n",
      "3085            Volyn  14.65\n",
      "5212   Dnipropetrovsk  14.89\n",
      "5213   Dnipropetrovsk  12.76\n",
      "5214   Dnipropetrovsk   7.81\n",
      "5215   Dnipropetrovsk   6.49\n",
      "5216   Dnipropetrovsk   6.58\n",
      "5217   Dnipropetrovsk   6.71\n",
      "5218   Dnipropetrovsk   7.56\n",
      "5219   Dnipropetrovsk   9.25\n",
      "5220   Dnipropetrovsk  10.94\n",
      "5221   Dnipropetrovsk  12.28\n",
      "22278         Luhansk  14.64\n",
      "22279         Luhansk  11.82\n",
      "22280         Luhansk  10.81\n",
      "22281         Luhansk  10.68\n",
      "22282         Luhansk  12.30\n",
      "22283         Luhansk  14.24\n",
      "24412            Lviv  13.14\n",
      "24413            Lviv   9.50\n",
      "24414            Lviv   8.14\n",
      "24415            Lviv   9.69\n",
      "24416            Lviv  11.20\n",
      "24417            Lviv  11.36\n",
      "24418            Lviv  12.77\n",
      "32944           Rivne  12.26\n",
      "32945           Rivne  11.28\n",
      "32946           Rivne  11.25\n",
      "32947           Rivne  11.38\n",
      "32948           Rivne  12.91\n",
      "32949           Rivne  14.20\n",
      "54275            Kyiv  14.61\n",
      "54276            Kyiv  11.33\n",
      "54277            Kyiv   9.36\n",
      "54278            Kyiv   9.45\n",
      "54279            Kyiv   9.73\n",
      "54280            Kyiv  11.45\n",
      "54281            Kyiv  14.29\n"
     ]
    }
   ],
   "source": [
    "def detect_extreme_droughts_years(df, threshold_percentage=20):\n",
    "    result = []\n",
    "    extreme_threshold = 15\n",
    "    total_regions = df['Area_ID'].nunique()\n",
    "    affected_threshold = (threshold_percentage / 100) * total_regions\n",
    "    drought_counts = df[df['VHI'] < extreme_threshold].groupby('Year')['Area_ID'].nunique()\n",
    "    extreme_drought_years = drought_counts[drought_counts > affected_threshold]\n",
    "\n",
    "    \n",
    "\n",
    "    \n",
    "    for year in extreme_drought_years.index:\n",
    "        affected_regions = df[(df['Year'] == year) & (df['VHI'] < extreme_threshold)][['Area_ID', 'VHI']]\n",
    "        result.append((year, affected_regions))\n",
    "    \n",
    "    return result\n",
    "\n",
    "extreme_droughts = detect_extreme_droughts_years(df, threshold_percentage=20)\n",
    "for year, regions in extreme_droughts:\n",
    "    print(f\"Year {year}: Extreme drought in regions:\")\n",
    "    print(regions)\n"
   ]
  }
 ],
 "metadata": {
  "kernelspec": {
   "display_name": "venv",
   "language": "python",
   "name": "python3"
  },
  "language_info": {
   "codemirror_mode": {
    "name": "ipython",
    "version": 3
   },
   "file_extension": ".py",
   "mimetype": "text/x-python",
   "name": "python",
   "nbconvert_exporter": "python",
   "pygments_lexer": "ipython3",
   "version": "3.12.6"
  }
 },
 "nbformat": 4,
 "nbformat_minor": 2
}
